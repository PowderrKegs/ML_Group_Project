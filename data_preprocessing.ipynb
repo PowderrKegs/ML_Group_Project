{
 "cells": [
  {
   "cell_type": "code",
   "execution_count": 42,
   "metadata": {},
   "outputs": [],
   "source": [
    "import pandas as pd\n",
    "import numpy as np\n",
    "import matplotlib.pyplot as plt\n",
    "import seaborn as sns\n",
    "from category_encoders import TargetEncoder\n",
    "from sklearn.model_selection import train_test_split\n",
    "from sklearn.preprocessing import StandardScaler\n",
    "from sklearn.compose import ColumnTransformer\n",
    "from sklearn.pipeline import Pipeline\n",
    "from sklearn.feature_selection import SelectKBest, f_classif\n",
    "from sklearn.ensemble import RandomForestClassifier"
   ]
  },
  {
   "cell_type": "code",
   "execution_count": 3,
   "metadata": {},
   "outputs": [
    {
     "name": "stdout",
     "output_type": "stream",
     "text": [
      "<class 'pandas.core.frame.DataFrame'>\n",
      "RangeIndex: 134420 entries, 0 to 134419\n",
      "Data columns (total 10 columns):\n",
      " #   Column                  Non-Null Count   Dtype  \n",
      "---  ------                  --------------   -----  \n",
      " 0   UserID                  134420 non-null  object \n",
      " 1   QuestionTiming          134420 non-null  object \n",
      " 2   TimeUtc                 134420 non-null  object \n",
      " 3   CurrentGameMode         117407 non-null  object \n",
      " 4   CurrentTask             117407 non-null  object \n",
      " 5   CurrentSessionLength    134420 non-null  int64  \n",
      " 6   LastTaskCompleted       71815 non-null   object \n",
      " 7   LevelProgressionAmount  117402 non-null  float64\n",
      " 8   QuestionType            134420 non-null  object \n",
      " 9   ResponseValue           134420 non-null  float64\n",
      "dtypes: float64(2), int64(1), object(7)\n",
      "memory usage: 10.3+ MB\n"
     ]
    }
   ],
   "source": [
    "train_data = pd.read_csv('train_data.csv')\n",
    "train_data_copy = train_data.copy(deep=True)\n",
    "# Make a deep copy, leave orginal dataset intact.\n",
    "\n",
    "train_data_copy.info()\n",
    "# Load train data and have a first look"
   ]
  },
  {
   "cell_type": "code",
   "execution_count": 4,
   "metadata": {},
   "outputs": [
    {
     "name": "stdout",
     "output_type": "stream",
     "text": [
      "Miss value in each colums: \n",
      "UserID                        0\n",
      "QuestionTiming                0\n",
      "TimeUtc                       0\n",
      "CurrentGameMode           17013\n",
      "CurrentTask               17013\n",
      "CurrentSessionLength          0\n",
      "LastTaskCompleted         62605\n",
      "LevelProgressionAmount    17018\n",
      "QuestionType                  0\n",
      "ResponseValue                 0\n",
      "dtype: int64\n",
      "\n",
      "missing value rate: \n",
      "UserID                     0.00\n",
      "QuestionTiming             0.00\n",
      "TimeUtc                    0.00\n",
      "CurrentGameMode           12.66\n",
      "CurrentTask               12.66\n",
      "CurrentSessionLength       0.00\n",
      "LastTaskCompleted         46.57\n",
      "LevelProgressionAmount    12.66\n",
      "QuestionType               0.00\n",
      "ResponseValue              0.00\n",
      "dtype: float64\n"
     ]
    }
   ],
   "source": [
    "na_counts = train_data_copy.isnull().sum()\n",
    "print(f'Miss value in each colums: \\n{na_counts}')\n",
    "print()\n",
    "na_rate = na_counts / len(train_data_copy) * 100\n",
    "print(f'missing value rate: \\n{round(na_rate, 2)}')\n",
    "# Figure out how many NA values within each column of train dataset.\n",
    "# To decide whether to delete missing value or imputation, we need check na rate. \n",
    "# As we can see below, non of them above 50%, so we have to imputate them properly."
   ]
  },
  {
   "cell_type": "code",
   "execution_count": 5,
   "metadata": {},
   "outputs": [
    {
     "name": "stdout",
     "output_type": "stream",
     "text": [
      "CurrentGameMode object\n",
      "CurrentTask object\n",
      "LastTaskCompleted object\n",
      "LevelProgressionAmount float64\n"
     ]
    }
   ],
   "source": [
    "for column in train_data_copy:\n",
    "    if train_data_copy[column].isnull().any():\n",
    "        column_type = train_data_copy[column].dtypes\n",
    "        print(column, column_type)\n",
    "\n",
    "# Check data types of each column containing missing values.\n",
    "# Because first three columns are all categorical type, we could imputate missing values with mode or assign them to a new type, Unkown or not specified. "
   ]
  },
  {
   "cell_type": "code",
   "execution_count": 6,
   "metadata": {},
   "outputs": [
    {
     "data": {
      "text/plain": [
       "\"\\nSince 'LevelProgressionAmount' is a numeric column, we have to check its distribution to decide using which data to imputate. \\nAnd result indicated that it is a skewed data with high frequency at the end of the range. Thus, using median is more proper than mean.\\n\""
      ]
     },
     "execution_count": 6,
     "metadata": {},
     "output_type": "execute_result"
    },
    {
     "data": {
      "image/png": "[encoded data removed]",
      "text/plain": [
       "<Figure size 640x480 with 1 Axes>"
      ]
     },
     "metadata": {},
     "output_type": "display_data"
    }
   ],
   "source": [
    "plt.hist(train_data_copy['LevelProgressionAmount'])\n",
    "\n",
    "\"\"\"\n",
    "Since 'LevelProgressionAmount' is a numeric column, we have to check its distribution to decide using which data to imputate. \n",
    "And result indicated that it is a skewed data with high frequency at the end of the range. Thus, using median is more proper than mean.\n",
    "\"\"\""
   ]
  },
  {
   "cell_type": "code",
   "execution_count": 7,
   "metadata": {},
   "outputs": [],
   "source": [
    "for column in train_data_copy:\n",
    "    if train_data_copy[column].isnull().any() and train_data_copy[column].dtype == 'object':\n",
    "        mode = train_data_copy[column].mode()[0]\n",
    "        train_data_copy[column] = train_data_copy[column].fillna(mode)\n",
    "\n",
    "# Substituting missing values with mode for categorical columns."
   ]
  },
  {
   "cell_type": "code",
   "execution_count": 39,
   "metadata": {},
   "outputs": [],
   "source": [
    "# Substituting missing values with median and reassigning the column\n",
    "median = train_data_copy['LevelProgressionAmount'].median()\n",
    "train_data_copy['LevelProgressionAmount'] = train_data_copy['LevelProgressionAmount'].fillna(median)"
   ]
  },
  {
   "cell_type": "code",
   "execution_count": 40,
   "metadata": {},
   "outputs": [
    {
     "name": "stdout",
     "output_type": "stream",
     "text": [
      "<class 'pandas.core.frame.DataFrame'>\n",
      "Index: 122629 entries, 0 to 134419\n",
      "Data columns (total 27 columns):\n",
      " #   Column                     Non-Null Count   Dtype  \n",
      "---  ------                     --------------   -----  \n",
      " 0   CurrentSessionLength       122629 non-null  int64  \n",
      " 1   LevelProgressionAmount     122629 non-null  float64\n",
      " 2   ResponseValue              122629 non-null  float64\n",
      " 3   QT_User Initiated          122629 non-null  bool   \n",
      " 4   CGM_Challenge              122629 non-null  bool   \n",
      " 5   CGM_FreePlay               122629 non-null  bool   \n",
      " 6   CGM_Special                122629 non-null  bool   \n",
      " 7   CurrentTask_encoded        122629 non-null  float64\n",
      " 8   LastTaskCompleted_encoded  122629 non-null  float64\n",
      " 9   Year                       122629 non-null  int32  \n",
      " 10  Month                      122629 non-null  int32  \n",
      " 11  Day                        122629 non-null  int32  \n",
      " 12  Hour                       122629 non-null  int32  \n",
      " 13  Minute                     122629 non-null  int32  \n",
      " 14  Second                     122629 non-null  int32  \n",
      " 15  DayOfWeek                  122629 non-null  int32  \n",
      " 16  IsWeekend                  122629 non-null  int32  \n",
      " 17  month_sin                  122629 non-null  float64\n",
      " 18  month_cos                  122629 non-null  float64\n",
      " 19  day_sin                    122629 non-null  float64\n",
      " 20  day_cos                    122629 non-null  float64\n",
      " 21  year_sin                   122629 non-null  float64\n",
      " 22  year_cos                   122629 non-null  float64\n",
      " 23  ToD_Night                  122629 non-null  bool   \n",
      " 24  ToD_Morning                122629 non-null  bool   \n",
      " 25  ToD_Afternoon              122629 non-null  bool   \n",
      " 26  ToD_Evening                122629 non-null  bool   \n",
      "dtypes: bool(8), float64(10), int32(8), int64(1)\n",
      "memory usage: 15.9 MB\n"
     ]
    }
   ],
   "source": [
    "train_data_copy.info()\n",
    "\n",
    "# Re-check train_data, now all missing values have been filled."
   ]
  },
  {
   "cell_type": "markdown",
   "metadata": {},
   "source": [
    "Above are missing values imputation, following will check outliers for numeric columns"
   ]
  },
  {
   "cell_type": "code",
   "execution_count": 10,
   "metadata": {},
   "outputs": [
    {
     "data": {
      "image/png": "[encoded data removed]",
      "text/plain": [
       "<Figure size 1000x600 with 1 Axes>"
      ]
     },
     "metadata": {},
     "output_type": "display_data"
    }
   ],
   "source": [
    "numeric_columns = train_data_copy[['CurrentSessionLength', \n",
    "                                   'LevelProgressionAmount', \n",
    "                                   'ResponseValue']]\n",
    "plt.figure(figsize=(10, 6))\n",
    "sns.boxplot(data=numeric_columns)\n",
    "plt.title('Boxplot for Numerical Variables')\n",
    "plt.grid(True)\n",
    "plt.show()\n",
    "\n",
    "# There are three numeric columns, check their outliers repectively."
   ]
  },
  {
   "cell_type": "code",
   "execution_count": 11,
   "metadata": {},
   "outputs": [],
   "source": [
    "numeric_columns_with_outliers = ['CurrentSessionLength', 'ResponseValue']\n",
    "\n",
    "Q1 = train_data_copy[numeric_columns_with_outliers].quantile(0.25)\n",
    "Q3 = train_data_copy[numeric_columns_with_outliers].quantile(0.75)\n",
    "IQR = Q3 - Q1\n",
    "\n",
    "lower_bound = Q1 - 1.5 * IQR\n",
    "upper_bound = Q3 + 1.5 * IQR\n",
    "\n",
    "mask = pd.Series(True, index=train_data_copy.index)\n",
    "\n",
    "for col in numeric_columns_with_outliers:\n",
    "    col_mask = (train_data_copy[col] >= lower_bound[col]) & (train_data_copy[col] <= upper_bound[col])\n",
    "    mask &= col_mask\n",
    "\n",
    "train_data_copy = train_data_copy[mask]\n",
    "\n",
    "# Trim outliers for 'CurrentSessionLength' and 'ResponseValue'."
   ]
  },
  {
   "cell_type": "markdown",
   "metadata": {},
   "source": [
    "We are done with numeric columns, following parts are detecting anomalies for categorical columns!"
   ]
  },
  {
   "cell_type": "code",
   "execution_count": 12,
   "metadata": {},
   "outputs": [
    {
     "name": "stdout",
     "output_type": "stream",
     "text": [
      "UserID: 8145\n",
      "QuestionTiming: 2\n",
      "TimeUtc: 120501\n",
      "CurrentGameMode: 4\n",
      "CurrentTask: 47\n",
      "LastTaskCompleted: 51\n",
      "QuestionType: 1\n"
     ]
    }
   ],
   "source": [
    "for column in train_data_copy:\n",
    "    if train_data_copy[column].dtype == 'object':\n",
    "        print(f'{column}: {train_data_copy[column].nunique()}')\n",
    "\n",
    "# Check how many unique values within each categorical column to find out what kind of encoding method could apply.\n",
    "\n",
    "# 'QuestionType' only contains 1 result, it is useless for building model, thus, we could drop it."
   ]
  },
  {
   "cell_type": "code",
   "execution_count": 13,
   "metadata": {},
   "outputs": [
    {
     "name": "stdout",
     "output_type": "stream",
     "text": [
      "\n",
      "Value counts for CurrentTask:\n",
      "CurrentTask\n",
      "TIME_HOME_DIRTBIKE                2\n",
      "TIME_HOME_MOTORBIKESIDECAR        1\n",
      "WATER_HOME_GOLFCART               1\n",
      "TIME_RESIDENTIALSMALL_BACKYARD    1\n",
      "Name: count, dtype: int64\n",
      "\n",
      "Value counts for LastTaskCompleted:\n",
      "Series([], Name: count, dtype: int64)\n"
     ]
    }
   ],
   "source": [
    "categorical_columns = ['CurrentTask', 'LastTaskCompleted']\n",
    "for col in categorical_columns:\n",
    "    value_counts = train_data_copy[col].value_counts()\n",
    "    print(f\"\\nValue counts for {col}:\\n{value_counts[value_counts < 5]}\")\n",
    "\n",
    "# Check rare categories in columns with large amount of unique values.\n",
    "# although, there are some categories are rare(occurred less than 5 times), \n",
    "# I perfer to keep them for accuracy, if it effect efficiency of model, then we may find a way to handle them."
   ]
  },
  {
   "cell_type": "markdown",
   "metadata": {},
   "source": [
    "Now, we will encode categorical columns! (Before that, we first drop useless column)"
   ]
  },
  {
   "cell_type": "code",
   "execution_count": 14,
   "metadata": {},
   "outputs": [],
   "source": [
    "# Since QuestionType only contains one category(helpless for learning), we drop this column.\n",
    "train_data_copy.drop('QuestionType', axis=1, inplace=True)\n",
    "# I run more than once of above code, the QuestionType already been deleted, so I make it as a comment, otherwise it wll pop error."
   ]
  },
  {
   "cell_type": "code",
   "execution_count": 15,
   "metadata": {},
   "outputs": [
    {
     "name": "stdout",
     "output_type": "stream",
     "text": [
      "Index(['UserID', 'QuestionTiming', 'TimeUtc', 'CurrentGameMode', 'CurrentTask',\n",
      "       'CurrentSessionLength', 'LastTaskCompleted', 'LevelProgressionAmount',\n",
      "       'ResponseValue'],\n",
      "      dtype='object')\n"
     ]
    }
   ],
   "source": [
    "print(train_data_copy.columns)\n",
    "\n",
    "# Check columns after drop useless column."
   ]
  },
  {
   "cell_type": "markdown",
   "metadata": {},
   "source": [
    "Let's encode QuestionTiming and CurrentGameMode first, because they have few categories, we use one-hot encoding."
   ]
  },
  {
   "cell_type": "code",
   "execution_count": 16,
   "metadata": {},
   "outputs": [],
   "source": [
    "train_data_copy = pd.get_dummies(train_data_copy, columns=['QuestionTiming', 'CurrentGameMode'], \n",
    "                                 prefix=['QT', 'CGM'],\n",
    "                                 drop_first=True)\n",
    "\n",
    "# QT for QuestionTiming, CGM for CurrentGameMode.\n"
   ]
  },
  {
   "cell_type": "code",
   "execution_count": 17,
   "metadata": {},
   "outputs": [
    {
     "data": {
      "text/html": [
       "<div>\n",
       "<style scoped>\n",
       "    .dataframe tbody tr th:only-of-type {\n",
       "        vertical-align: middle;\n",
       "    }\n",
       "\n",
       "    .dataframe tbody tr th {\n",
       "        vertical-align: top;\n",
       "    }\n",
       "\n",
       "    .dataframe thead th {\n",
       "        text-align: right;\n",
       "    }\n",
       "</style>\n",
       "<table border=\"1\" class=\"dataframe\">\n",
       "  <thead>\n",
       "    <tr style=\"text-align: right;\">\n",
       "      <th></th>\n",
       "      <th>UserID</th>\n",
       "      <th>TimeUtc</th>\n",
       "      <th>CurrentTask</th>\n",
       "      <th>CurrentSessionLength</th>\n",
       "      <th>LastTaskCompleted</th>\n",
       "      <th>LevelProgressionAmount</th>\n",
       "      <th>ResponseValue</th>\n",
       "      <th>QT_User Initiated</th>\n",
       "      <th>CGM_Challenge</th>\n",
       "      <th>CGM_FreePlay</th>\n",
       "      <th>CGM_Special</th>\n",
       "    </tr>\n",
       "  </thead>\n",
       "  <tbody>\n",
       "    <tr>\n",
       "      <th>0</th>\n",
       "      <td>p1</td>\n",
       "      <td>2022-08-18 22:55:27</td>\n",
       "      <td>RECREATIONGROUND_PLAYGROUND</td>\n",
       "      <td>2</td>\n",
       "      <td>WASH_PWVan</td>\n",
       "      <td>NaN</td>\n",
       "      <td>509.0</td>\n",
       "      <td>True</td>\n",
       "      <td>False</td>\n",
       "      <td>False</td>\n",
       "      <td>False</td>\n",
       "    </tr>\n",
       "    <tr>\n",
       "      <th>1</th>\n",
       "      <td>p1</td>\n",
       "      <td>2022-08-18 23:38:31</td>\n",
       "      <td>RECREATIONGROUND_PLAYGROUND</td>\n",
       "      <td>0</td>\n",
       "      <td>WASH_PWVan</td>\n",
       "      <td>NaN</td>\n",
       "      <td>653.0</td>\n",
       "      <td>False</td>\n",
       "      <td>False</td>\n",
       "      <td>False</td>\n",
       "      <td>False</td>\n",
       "    </tr>\n",
       "    <tr>\n",
       "      <th>2</th>\n",
       "      <td>p1</td>\n",
       "      <td>2022-08-18 23:39:24</td>\n",
       "      <td>HOME_VAN</td>\n",
       "      <td>1</td>\n",
       "      <td>WASH_PWVan</td>\n",
       "      <td>1.000000</td>\n",
       "      <td>705.0</td>\n",
       "      <td>True</td>\n",
       "      <td>False</td>\n",
       "      <td>False</td>\n",
       "      <td>False</td>\n",
       "    </tr>\n",
       "    <tr>\n",
       "      <th>3</th>\n",
       "      <td>p1</td>\n",
       "      <td>2022-08-18 23:45:01</td>\n",
       "      <td>RESIDENTIALSMALL_BACKYARD</td>\n",
       "      <td>6</td>\n",
       "      <td>WASH_PWVan</td>\n",
       "      <td>0.168267</td>\n",
       "      <td>817.0</td>\n",
       "      <td>False</td>\n",
       "      <td>False</td>\n",
       "      <td>False</td>\n",
       "      <td>False</td>\n",
       "    </tr>\n",
       "    <tr>\n",
       "      <th>4</th>\n",
       "      <td>p1</td>\n",
       "      <td>2022-08-18 23:51:22</td>\n",
       "      <td>RESIDENTIALSMALL_BACKYARD</td>\n",
       "      <td>13</td>\n",
       "      <td>WASH_PWVan</td>\n",
       "      <td>0.429364</td>\n",
       "      <td>810.0</td>\n",
       "      <td>False</td>\n",
       "      <td>False</td>\n",
       "      <td>False</td>\n",
       "      <td>False</td>\n",
       "    </tr>\n",
       "  </tbody>\n",
       "</table>\n",
       "</div>"
      ],
      "text/plain": [
       "  UserID              TimeUtc                  CurrentTask  \\\n",
       "0     p1  2022-08-18 22:55:27  RECREATIONGROUND_PLAYGROUND   \n",
       "1     p1  2022-08-18 23:38:31  RECREATIONGROUND_PLAYGROUND   \n",
       "2     p1  2022-08-18 23:39:24                     HOME_VAN   \n",
       "3     p1  2022-08-18 23:45:01    RESIDENTIALSMALL_BACKYARD   \n",
       "4     p1  2022-08-18 23:51:22    RESIDENTIALSMALL_BACKYARD   \n",
       "\n",
       "   CurrentSessionLength LastTaskCompleted  LevelProgressionAmount  \\\n",
       "0                     2        WASH_PWVan                     NaN   \n",
       "1                     0        WASH_PWVan                     NaN   \n",
       "2                     1        WASH_PWVan                1.000000   \n",
       "3                     6        WASH_PWVan                0.168267   \n",
       "4                    13        WASH_PWVan                0.429364   \n",
       "\n",
       "   ResponseValue  QT_User Initiated  CGM_Challenge  CGM_FreePlay  CGM_Special  \n",
       "0          509.0               True          False         False        False  \n",
       "1          653.0              False          False         False        False  \n",
       "2          705.0               True          False         False        False  \n",
       "3          817.0              False          False         False        False  \n",
       "4          810.0              False          False         False        False  "
      ]
     },
     "execution_count": 17,
     "metadata": {},
     "output_type": "execute_result"
    }
   ],
   "source": [
    "train_data_copy.head()"
   ]
  },
  {
   "cell_type": "markdown",
   "metadata": {},
   "source": [
    "Now, Let's handle CurrentTask and LastTaskCompleted, they have large amount of unique values."
   ]
  },
  {
   "cell_type": "code",
   "execution_count": 18,
   "metadata": {},
   "outputs": [],
   "source": [
    "encoder = TargetEncoder()\n",
    "train_data_copy['CurrentTask_encoded'] = encoder.fit_transform(train_data_copy['CurrentTask'], \n",
    "                                                               train_data_copy['ResponseValue'])\n",
    "\n",
    "train_data_copy['LastTaskCompleted_encoded'] = encoder.fit_transform(train_data_copy['LastTaskCompleted'], \n",
    "                                                                     train_data_copy['ResponseValue'])\n",
    "\n",
    "train_data_copy.drop(['CurrentTask', 'LastTaskCompleted'], axis=1, inplace=True)\n",
    "\n",
    "# encoding and drop original columns."
   ]
  },
  {
   "cell_type": "code",
   "execution_count": 19,
   "metadata": {},
   "outputs": [
    {
     "name": "stdout",
     "output_type": "stream",
     "text": [
      "   CurrentTask_encoded  LastTaskCompleted_encoded\n",
      "0           734.003456                 754.212355\n",
      "1           734.003456                 754.212355\n",
      "2           750.944210                 754.212355\n",
      "3           770.176924                 754.212355\n",
      "4           770.176924                 754.212355\n"
     ]
    }
   ],
   "source": [
    "print(train_data_copy[['CurrentTask_encoded', 'LastTaskCompleted_encoded']].head())\n",
    "# Check result."
   ]
  },
  {
   "cell_type": "markdown",
   "metadata": {},
   "source": [
    "OK, now we have TimeUtc left, this column is tricky!"
   ]
  },
  {
   "cell_type": "code",
   "execution_count": 20,
   "metadata": {},
   "outputs": [],
   "source": [
    "# Ensure TimeUtc is a datetime type\n",
    "train_data_copy['TimeUtc'] = pd.to_datetime(train_data_copy['TimeUtc'])\n",
    "\n",
    "# Extract components\n",
    "train_data_copy['Year'] = train_data_copy['TimeUtc'].dt.year\n",
    "train_data_copy['Month'] = train_data_copy['TimeUtc'].dt.month\n",
    "train_data_copy['Day'] = train_data_copy['TimeUtc'].dt.day\n",
    "train_data_copy['Hour'] = train_data_copy['TimeUtc'].dt.hour\n",
    "train_data_copy['Minute'] = train_data_copy['TimeUtc'].dt.minute\n",
    "train_data_copy['Second'] = train_data_copy['TimeUtc'].dt.second\n",
    "\n",
    "\n"
   ]
  },
  {
   "cell_type": "code",
   "execution_count": 21,
   "metadata": {},
   "outputs": [],
   "source": [
    "# Separate week and weekend\n",
    "train_data_copy['DayOfWeek'] = train_data_copy['TimeUtc'].dt.dayofweek\n",
    "train_data_copy['IsWeekend'] = (train_data_copy['TimeUtc'].dt.weekday >= 5).astype(int)\n",
    "\n",
    "# Assign different period of time to different categories. \n",
    "bins = [0, 6, 12, 18, 24]  # Define bins as 0-6, 6-12, 12-18, 18-24\n",
    "labels = ['Night', 'Morning', 'Afternoon', 'Evening']\n",
    "train_data_copy['TimeOfDay'] = pd.cut(train_data_copy['TimeUtc'].dt.hour, bins=bins, labels=labels, right=False)\n",
    "\n",
    "# Drop original column to reduce redundancy\n",
    "train_data_copy.drop('TimeUtc', axis=1, inplace=True)"
   ]
  },
  {
   "cell_type": "code",
   "execution_count": 22,
   "metadata": {},
   "outputs": [
    {
     "data": {
      "text/html": [
       "<div>\n",
       "<style scoped>\n",
       "    .dataframe tbody tr th:only-of-type {\n",
       "        vertical-align: middle;\n",
       "    }\n",
       "\n",
       "    .dataframe tbody tr th {\n",
       "        vertical-align: top;\n",
       "    }\n",
       "\n",
       "    .dataframe thead th {\n",
       "        text-align: right;\n",
       "    }\n",
       "</style>\n",
       "<table border=\"1\" class=\"dataframe\">\n",
       "  <thead>\n",
       "    <tr style=\"text-align: right;\">\n",
       "      <th></th>\n",
       "      <th>UserID</th>\n",
       "      <th>CurrentSessionLength</th>\n",
       "      <th>LevelProgressionAmount</th>\n",
       "      <th>ResponseValue</th>\n",
       "      <th>QT_User Initiated</th>\n",
       "      <th>CGM_Challenge</th>\n",
       "      <th>CGM_FreePlay</th>\n",
       "      <th>CGM_Special</th>\n",
       "      <th>CurrentTask_encoded</th>\n",
       "      <th>LastTaskCompleted_encoded</th>\n",
       "      <th>Year</th>\n",
       "      <th>Month</th>\n",
       "      <th>Day</th>\n",
       "      <th>Hour</th>\n",
       "      <th>Minute</th>\n",
       "      <th>Second</th>\n",
       "      <th>DayOfWeek</th>\n",
       "      <th>IsWeekend</th>\n",
       "      <th>TimeOfDay</th>\n",
       "    </tr>\n",
       "  </thead>\n",
       "  <tbody>\n",
       "    <tr>\n",
       "      <th>0</th>\n",
       "      <td>p1</td>\n",
       "      <td>2</td>\n",
       "      <td>NaN</td>\n",
       "      <td>509.0</td>\n",
       "      <td>True</td>\n",
       "      <td>False</td>\n",
       "      <td>False</td>\n",
       "      <td>False</td>\n",
       "      <td>734.003456</td>\n",
       "      <td>754.212355</td>\n",
       "      <td>2022</td>\n",
       "      <td>8</td>\n",
       "      <td>18</td>\n",
       "      <td>22</td>\n",
       "      <td>55</td>\n",
       "      <td>27</td>\n",
       "      <td>3</td>\n",
       "      <td>0</td>\n",
       "      <td>Evening</td>\n",
       "    </tr>\n",
       "    <tr>\n",
       "      <th>1</th>\n",
       "      <td>p1</td>\n",
       "      <td>0</td>\n",
       "      <td>NaN</td>\n",
       "      <td>653.0</td>\n",
       "      <td>False</td>\n",
       "      <td>False</td>\n",
       "      <td>False</td>\n",
       "      <td>False</td>\n",
       "      <td>734.003456</td>\n",
       "      <td>754.212355</td>\n",
       "      <td>2022</td>\n",
       "      <td>8</td>\n",
       "      <td>18</td>\n",
       "      <td>23</td>\n",
       "      <td>38</td>\n",
       "      <td>31</td>\n",
       "      <td>3</td>\n",
       "      <td>0</td>\n",
       "      <td>Evening</td>\n",
       "    </tr>\n",
       "    <tr>\n",
       "      <th>2</th>\n",
       "      <td>p1</td>\n",
       "      <td>1</td>\n",
       "      <td>1.000000</td>\n",
       "      <td>705.0</td>\n",
       "      <td>True</td>\n",
       "      <td>False</td>\n",
       "      <td>False</td>\n",
       "      <td>False</td>\n",
       "      <td>750.944210</td>\n",
       "      <td>754.212355</td>\n",
       "      <td>2022</td>\n",
       "      <td>8</td>\n",
       "      <td>18</td>\n",
       "      <td>23</td>\n",
       "      <td>39</td>\n",
       "      <td>24</td>\n",
       "      <td>3</td>\n",
       "      <td>0</td>\n",
       "      <td>Evening</td>\n",
       "    </tr>\n",
       "    <tr>\n",
       "      <th>3</th>\n",
       "      <td>p1</td>\n",
       "      <td>6</td>\n",
       "      <td>0.168267</td>\n",
       "      <td>817.0</td>\n",
       "      <td>False</td>\n",
       "      <td>False</td>\n",
       "      <td>False</td>\n",
       "      <td>False</td>\n",
       "      <td>770.176924</td>\n",
       "      <td>754.212355</td>\n",
       "      <td>2022</td>\n",
       "      <td>8</td>\n",
       "      <td>18</td>\n",
       "      <td>23</td>\n",
       "      <td>45</td>\n",
       "      <td>1</td>\n",
       "      <td>3</td>\n",
       "      <td>0</td>\n",
       "      <td>Evening</td>\n",
       "    </tr>\n",
       "    <tr>\n",
       "      <th>4</th>\n",
       "      <td>p1</td>\n",
       "      <td>13</td>\n",
       "      <td>0.429364</td>\n",
       "      <td>810.0</td>\n",
       "      <td>False</td>\n",
       "      <td>False</td>\n",
       "      <td>False</td>\n",
       "      <td>False</td>\n",
       "      <td>770.176924</td>\n",
       "      <td>754.212355</td>\n",
       "      <td>2022</td>\n",
       "      <td>8</td>\n",
       "      <td>18</td>\n",
       "      <td>23</td>\n",
       "      <td>51</td>\n",
       "      <td>22</td>\n",
       "      <td>3</td>\n",
       "      <td>0</td>\n",
       "      <td>Evening</td>\n",
       "    </tr>\n",
       "  </tbody>\n",
       "</table>\n",
       "</div>"
      ],
      "text/plain": [
       "  UserID  CurrentSessionLength  LevelProgressionAmount  ResponseValue  \\\n",
       "0     p1                     2                     NaN          509.0   \n",
       "1     p1                     0                     NaN          653.0   \n",
       "2     p1                     1                1.000000          705.0   \n",
       "3     p1                     6                0.168267          817.0   \n",
       "4     p1                    13                0.429364          810.0   \n",
       "\n",
       "   QT_User Initiated  CGM_Challenge  CGM_FreePlay  CGM_Special  \\\n",
       "0               True          False         False        False   \n",
       "1              False          False         False        False   \n",
       "2               True          False         False        False   \n",
       "3              False          False         False        False   \n",
       "4              False          False         False        False   \n",
       "\n",
       "   CurrentTask_encoded  LastTaskCompleted_encoded  Year  Month  Day  Hour  \\\n",
       "0           734.003456                 754.212355  2022      8   18    22   \n",
       "1           734.003456                 754.212355  2022      8   18    23   \n",
       "2           750.944210                 754.212355  2022      8   18    23   \n",
       "3           770.176924                 754.212355  2022      8   18    23   \n",
       "4           770.176924                 754.212355  2022      8   18    23   \n",
       "\n",
       "   Minute  Second  DayOfWeek  IsWeekend TimeOfDay  \n",
       "0      55      27          3          0   Evening  \n",
       "1      38      31          3          0   Evening  \n",
       "2      39      24          3          0   Evening  \n",
       "3      45       1          3          0   Evening  \n",
       "4      51      22          3          0   Evening  "
      ]
     },
     "execution_count": 22,
     "metadata": {},
     "output_type": "execute_result"
    }
   ],
   "source": [
    "# Check dataset.\n",
    "train_data_copy.head()"
   ]
  },
  {
   "cell_type": "code",
   "execution_count": 23,
   "metadata": {},
   "outputs": [
    {
     "name": "stdout",
     "output_type": "stream",
     "text": [
      "UserID: object\n",
      "CurrentSessionLength: int64\n",
      "LevelProgressionAmount: float64\n",
      "ResponseValue: float64\n",
      "QT_User Initiated: bool\n",
      "CGM_Challenge: bool\n",
      "CGM_FreePlay: bool\n",
      "CGM_Special: bool\n",
      "CurrentTask_encoded: float64\n",
      "LastTaskCompleted_encoded: float64\n",
      "Year: int32\n",
      "Month: int32\n",
      "Day: int32\n",
      "Hour: int32\n",
      "Minute: int32\n",
      "Second: int32\n",
      "DayOfWeek: int32\n",
      "IsWeekend: int32\n",
      "TimeOfDay: category\n"
     ]
    }
   ],
   "source": [
    "# Check data type again.\n",
    "for column in train_data_copy:\n",
    "    print(f'{column}: {train_data_copy[column].dtype}')"
   ]
  },
  {
   "cell_type": "markdown",
   "metadata": {},
   "source": [
    "Define a cyclical encoding function to encode time related features. "
   ]
  },
  {
   "cell_type": "code",
   "execution_count": 27,
   "metadata": {},
   "outputs": [],
   "source": [
    "def cyclical_encode(data, max_val):\n",
    "    data_rad = (2 * np.pi * data) / max_val\n",
    "    return np.sin(data_rad), np.cos(data_rad)\n"
   ]
  },
  {
   "cell_type": "code",
   "execution_count": 28,
   "metadata": {},
   "outputs": [],
   "source": [
    "# Encoding year, month, day.\n",
    "train_data_copy['month_sin'], train_data_copy['month_cos'] = cyclical_encode(train_data_copy['Month'], 12)\n",
    "train_data_copy['day_sin'], train_data_copy['day_cos'] = cyclical_encode(train_data_copy['Day'], 31)\n",
    "train_data_copy['year_sin'], train_data_copy['year_cos'] = cyclical_encode(train_data_copy['Year'], train_data_copy['Year'].max())"
   ]
  },
  {
   "cell_type": "code",
   "execution_count": 32,
   "metadata": {},
   "outputs": [],
   "source": [
    "# finally, we need one last encoding for TimeOfDay.\n",
    "train_data_copy = pd.get_dummies(train_data_copy, columns=['TimeOfDay'], prefix='ToD', drop_first=False)\n"
   ]
  },
  {
   "cell_type": "markdown",
   "metadata": {},
   "source": [
    "I have no idea about how to process UserID, for now, I simply delete it."
   ]
  },
  {
   "cell_type": "code",
   "execution_count": 33,
   "metadata": {},
   "outputs": [],
   "source": [
    "# Drop UserID.\n",
    "train_data_copy.drop('UserID', axis=1, inplace=True)\n"
   ]
  },
  {
   "cell_type": "code",
   "execution_count": 34,
   "metadata": {},
   "outputs": [
    {
     "name": "stdout",
     "output_type": "stream",
     "text": [
      "<class 'pandas.core.frame.DataFrame'>\n",
      "Index: 122629 entries, 0 to 134419\n",
      "Data columns (total 27 columns):\n",
      " #   Column                     Non-Null Count   Dtype  \n",
      "---  ------                     --------------   -----  \n",
      " 0   CurrentSessionLength       122629 non-null  int64  \n",
      " 1   LevelProgressionAmount     106068 non-null  float64\n",
      " 2   ResponseValue              122629 non-null  float64\n",
      " 3   QT_User Initiated          122629 non-null  bool   \n",
      " 4   CGM_Challenge              122629 non-null  bool   \n",
      " 5   CGM_FreePlay               122629 non-null  bool   \n",
      " 6   CGM_Special                122629 non-null  bool   \n",
      " 7   CurrentTask_encoded        122629 non-null  float64\n",
      " 8   LastTaskCompleted_encoded  122629 non-null  float64\n",
      " 9   Year                       122629 non-null  int32  \n",
      " 10  Month                      122629 non-null  int32  \n",
      " 11  Day                        122629 non-null  int32  \n",
      " 12  Hour                       122629 non-null  int32  \n",
      " 13  Minute                     122629 non-null  int32  \n",
      " 14  Second                     122629 non-null  int32  \n",
      " 15  DayOfWeek                  122629 non-null  int32  \n",
      " 16  IsWeekend                  122629 non-null  int32  \n",
      " 17  month_sin                  122629 non-null  float64\n",
      " 18  month_cos                  122629 non-null  float64\n",
      " 19  day_sin                    122629 non-null  float64\n",
      " 20  day_cos                    122629 non-null  float64\n",
      " 21  year_sin                   122629 non-null  float64\n",
      " 22  year_cos                   122629 non-null  float64\n",
      " 23  ToD_Night                  122629 non-null  bool   \n",
      " 24  ToD_Morning                122629 non-null  bool   \n",
      " 25  ToD_Afternoon              122629 non-null  bool   \n",
      " 26  ToD_Evening                122629 non-null  bool   \n",
      "dtypes: bool(8), float64(10), int32(8), int64(1)\n",
      "memory usage: 15.9 MB\n"
     ]
    }
   ],
   "source": [
    "train_data_copy.info()"
   ]
  },
  {
   "cell_type": "markdown",
   "metadata": {},
   "source": [
    "Then I will scaling numerical features and use random forest to do feature selection."
   ]
  },
  {
   "cell_type": "code",
   "execution_count": 45,
   "metadata": {},
   "outputs": [
    {
     "name": "stdout",
     "output_type": "stream",
     "text": [
      "Model accuracy on test set:  0.059406344287694694\n"
     ]
    }
   ],
   "source": [
    "# Separate features and target\n",
    "X = train_data_copy.drop(['ResponseValue'], axis=1)  # Dropping the target from the feature set\n",
    "y = train_data_copy['ResponseValue']  # This is your target variable\n",
    "\n",
    "# Define numeric features\n",
    "numeric_features = ['CurrentSessionLength', 'LevelProgressionAmount', 'CurrentTask_encoded', 'LastTaskCompleted_encoded']\n",
    "cyclical_features = ['month_sin', 'month_cos', 'day_sin', 'day_cos', 'year_sin', 'year_cos']\n",
    "\n",
    "# Pipeline for numeric transformations\n",
    "numeric_transformer = Pipeline(steps=[\n",
    "    ('scaler', StandardScaler())\n",
    "])\n",
    "\n",
    "# Preprocessor to apply transformations\n",
    "preprocessor = ColumnTransformer(\n",
    "    transformers=[\n",
    "        ('num', numeric_transformer, numeric_features + cyclical_features)\n",
    "    ],\n",
    "    remainder='passthrough')  # Keeps boolean and already encoded categorical features as is\n",
    "\n",
    "# Complete pipeline with classifier\n",
    "pipeline = Pipeline(steps=[\n",
    "    ('preprocessor', preprocessor),\n",
    "    ('feature_selection', SelectKBest(f_classif, k=10)), \n",
    "    ('classifier', RandomForestClassifier())\n",
    "])\n",
    "\n",
    "# Split the data\n",
    "X_train, X_test, y_train, y_test = train_test_split(X, y, test_size=0.2, random_state=42)\n",
    "\n",
    "# Fit the model\n",
    "pipeline.fit(X_train, y_train)\n",
    "\n",
    "# Evaluate the model\n",
    "print(\"Model accuracy on test set: \", pipeline.score(X_test, y_test))\n",
    "\n",
    "\n"
   ]
  }
 ],
 "metadata": {
  "kernelspec": {
   "display_name": "Python 3",
   "language": "python",
   "name": "python3"
  },
  "language_info": {
   "codemirror_mode": {
    "name": "ipython",
    "version": 3
   },
   "file_extension": ".py",
   "mimetype": "text/x-python",
   "name": "python",
   "nbconvert_exporter": "python",
   "pygments_lexer": "ipython3",
   "version": "3.12.0"
  }
 },
 "nbformat": 4,
 "nbformat_minor": 2
}
